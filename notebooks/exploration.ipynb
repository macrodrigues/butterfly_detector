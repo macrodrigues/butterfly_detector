{
 "cells": [
  {
   "cell_type": "code",
   "execution_count": 5,
   "id": "d58ae89d-2bfb-4577-9e3e-dee168eec0d6",
   "metadata": {},
   "outputs": [
    {
     "name": "stderr",
     "output_type": "stream",
     "text": [
      "2022-01-26 11:17:37.512254: W tensorflow/stream_executor/platform/default/dso_loader.cc:64] Could not load dynamic library 'libcudart.so.11.0'; dlerror: libcudart.so.11.0: cannot open shared object file: No such file or directory\n",
      "2022-01-26 11:17:37.512380: I tensorflow/stream_executor/cuda/cudart_stub.cc:29] Ignore above cudart dlerror if you do not have a GPU set up on your machine.\n"
     ]
    },
    {
     "name": "stdout",
     "output_type": "stream",
     "text": [
      "Found 1694 images belonging to 11 classes.\n",
      "Found 506 images belonging to 11 classes.\n"
     ]
    }
   ],
   "source": [
    "import sys\n",
    "sys.path.append(\n",
    "    '/home/macrodrigues/code/macrodrigues/my_projects/butterfly_detector/')\n",
    "from scripts.transfer_learning import PATH, PATH_TEST\n",
    "from scripts.transfer_learning import imgs_gen, train_gen, val_gen\n",
    "from scripts.transfer_learning import compile_model, train_model \n",
    "from scripts.transfer_learning import plot_history, check_accuracy\n"
   ]
  },
  {
   "cell_type": "code",
   "execution_count": 6,
   "id": "c2dee08d",
   "metadata": {},
   "outputs": [
    {
     "name": "stderr",
     "output_type": "stream",
     "text": [
      "2022-01-26 11:18:51.587602: W tensorflow/stream_executor/platform/default/dso_loader.cc:64] Could not load dynamic library 'libcuda.so.1'; dlerror: libcuda.so.1: cannot open shared object file: No such file or directory\n",
      "2022-01-26 11:18:51.588024: W tensorflow/stream_executor/cuda/cuda_driver.cc:269] failed call to cuInit: UNKNOWN ERROR (303)\n",
      "2022-01-26 11:18:51.588150: I tensorflow/stream_executor/cuda/cuda_diagnostics.cc:156] kernel driver does not appear to be running on this host (DESKTOP-6U135SI): /proc/driver/nvidia/version does not exist\n",
      "2022-01-26 11:18:51.589730: I tensorflow/core/platform/cpu_feature_guard.cc:151] This TensorFlow binary is optimized with oneAPI Deep Neural Network Library (oneDNN) to use the following CPU instructions in performance-critical operations:  AVX2 FMA\n",
      "To enable them in other operations, rebuild TensorFlow with the appropriate compiler flags.\n"
     ]
    }
   ],
   "source": [
    "model_test = compile_model()"
   ]
  },
  {
   "cell_type": "code",
   "execution_count": 8,
   "id": "20669520",
   "metadata": {},
   "outputs": [],
   "source": [
    "history = train_model(model_test,name_to_save='model_test')\n"
   ]
  },
  {
   "cell_type": "code",
   "execution_count": 9,
   "id": "dad9e3ea-a95f-41fe-816a-516c2eace103",
   "metadata": {},
   "outputs": [
    {
     "name": "stdout",
     "output_type": "stream",
     "text": [
      "TITLE: Colias Croceus\n",
      "PREDICTIONS: {'Colias Croceus': 1.0}\n",
      "BEST PREDICTION: Colias Croceus\n",
      "RESULT Good prediction!\n",
      "\n",
      "\n",
      "TITLE: Maniola Jurtina\n",
      "PREDICTIONS: {'Maniola Jurtina': 1.0}\n",
      "BEST PREDICTION: Maniola Jurtina\n",
      "RESULT Good prediction!\n",
      "\n",
      "\n",
      "TITLE: Iphiclides Feisthamelii\n",
      "PREDICTIONS: {'Iphiclides Feisthamelii': 1.0}\n",
      "BEST PREDICTION: Iphiclides Feisthamelii\n",
      "RESULT Good prediction!\n",
      "\n",
      "\n",
      "TITLE: Aricia Cramera\n",
      "PREDICTIONS: {'Aricia Cramera': 1.0}\n",
      "BEST PREDICTION: Aricia Cramera\n",
      "RESULT Good prediction!\n",
      "\n",
      "\n",
      "TITLE: Coenonympha Pamphilus\n",
      "PREDICTIONS: {'Coenonympha Pamphilus': 1.0}\n",
      "BEST PREDICTION: Coenonympha Pamphilus\n",
      "RESULT Good prediction!\n",
      "\n",
      "\n",
      "TITLE: Maniola Jurtina\n",
      "PREDICTIONS: {'Coenonympha Pamphilus': 1.0}\n",
      "BEST PREDICTION: Coenonympha Pamphilus\n",
      "RESULT Wrong Prediction!\n",
      "\n",
      "\n",
      "TITLE: Lysandra Bellargus\n",
      "PREDICTIONS: {'Lysandra Bellargus': 1.0}\n",
      "BEST PREDICTION: Lysandra Bellargus\n",
      "RESULT Good prediction!\n",
      "\n",
      "\n",
      "TITLE: Issoria Lathonia\n",
      "PREDICTIONS: {'Issoria Lathonia': 1.0}\n",
      "BEST PREDICTION: Issoria Lathonia\n",
      "RESULT Good prediction!\n",
      "\n",
      "\n",
      "TITLE: Issoria Lathonia\n",
      "PREDICTIONS: {'Issoria Lathonia': 1.0}\n",
      "BEST PREDICTION: Issoria Lathonia\n",
      "RESULT Good prediction!\n",
      "\n",
      "\n",
      "TITLE: Anthocharis Cardamines\n",
      "PREDICTIONS: {'Anthocharis Cardamines': 1.0}\n",
      "BEST PREDICTION: Anthocharis Cardamines\n",
      "RESULT Good prediction!\n",
      "\n",
      "\n",
      "TITLE: Aricia Cramera\n",
      "PREDICTIONS: {'Vanessa Atalanta': 1.0}\n",
      "BEST PREDICTION: Vanessa Atalanta\n",
      "RESULT Wrong Prediction!\n",
      "\n",
      "\n",
      "TITLE: Anthocharis Cardamines\n",
      "PREDICTIONS: {'Anthocharis Cardamines': 1.0}\n",
      "BEST PREDICTION: Anthocharis Cardamines\n",
      "RESULT Good prediction!\n",
      "\n",
      "\n",
      "TITLE: Gonepteryx Cleopatra\n",
      "PREDICTIONS: {'Gonepteryx Cleopatra': 1.0}\n",
      "BEST PREDICTION: Gonepteryx Cleopatra\n",
      "RESULT Good prediction!\n",
      "\n",
      "\n",
      "TITLE: Coenonympha Pamphilus\n",
      "PREDICTIONS: {'Coenonympha Pamphilus': 1.0}\n",
      "BEST PREDICTION: Coenonympha Pamphilus\n",
      "RESULT Good prediction!\n",
      "\n",
      "\n",
      "TITLE: Vanessa Atalanta\n",
      "PREDICTIONS: {'Vanessa Atalanta': 1.0}\n",
      "BEST PREDICTION: Vanessa Atalanta\n",
      "RESULT Good prediction!\n",
      "\n",
      "\n",
      "TITLE: Lysandra Bellargus\n",
      "PREDICTIONS: {'Issoria Lathonia': 1.0}\n",
      "BEST PREDICTION: Issoria Lathonia\n",
      "RESULT Wrong Prediction!\n",
      "\n",
      "\n",
      "TITLE: Melanargia Ines\n",
      "PREDICTIONS: {'Melanargia Ines': 1.0}\n",
      "BEST PREDICTION: Melanargia Ines\n",
      "RESULT Good prediction!\n",
      "\n",
      "\n",
      "TITLE: Melanargia Ines\n",
      "PREDICTIONS: {'Melanargia Ines': 1.0}\n",
      "BEST PREDICTION: Melanargia Ines\n",
      "RESULT Good prediction!\n",
      "\n",
      "\n",
      "TITLE: Colias Croceus\n",
      "PREDICTIONS: {'Colias Croceus': 1.0}\n",
      "BEST PREDICTION: Colias Croceus\n",
      "RESULT Good prediction!\n",
      "\n",
      "\n",
      "TITLE: Vanessa Atalanta\n",
      "PREDICTIONS: {'Vanessa Atalanta': 1.0}\n",
      "BEST PREDICTION: Vanessa Atalanta\n",
      "RESULT Good prediction!\n",
      "\n",
      "\n",
      "TITLE: Gonepteryx Cleopatra\n",
      "PREDICTIONS: {'Gonepteryx Cleopatra': 1.0}\n",
      "BEST PREDICTION: Gonepteryx Cleopatra\n",
      "RESULT Good prediction!\n",
      "\n",
      "\n",
      "TITLE: Iphiclides Feisthamelii\n",
      "PREDICTIONS: {'Melanargia Ines': 1.0}\n",
      "BEST PREDICTION: Melanargia Ines\n",
      "RESULT Wrong Prediction!\n",
      "\n",
      "\n",
      "This model is 81.82% efective.\n"
     ]
    }
   ],
   "source": [
    "check_accuracy(pick_model='model_test')\n"
   ]
  },
  {
   "cell_type": "code",
   "execution_count": null,
   "id": "86f650cb",
   "metadata": {},
   "outputs": [],
   "source": []
  }
 ],
 "metadata": {
  "kernelspec": {
   "display_name": "Python 3 (ipykernel)",
   "language": "python",
   "name": "python3"
  },
  "language_info": {
   "codemirror_mode": {
    "name": "ipython",
    "version": 3
   },
   "file_extension": ".py",
   "mimetype": "text/x-python",
   "name": "python",
   "nbconvert_exporter": "python",
   "pygments_lexer": "ipython3",
   "version": "3.8.12"
  }
 },
 "nbformat": 4,
 "nbformat_minor": 5
}
